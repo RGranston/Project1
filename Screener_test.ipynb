{
 "cells": [
  {
   "cell_type": "code",
   "execution_count": 1,
   "id": "c755e78b-80ff-4d81-a453-5bff061e843d",
   "metadata": {},
   "outputs": [],
   "source": [
    "import pandas_datareader as web\n",
    "import pandas as pd\n",
    "from yahoo_fin import stock_info as si\n",
    "import datetime as dt\n",
    "import os\n",
    "#from MCForecastTools import MCSimulation"
   ]
  },
  {
   "cell_type": "code",
   "execution_count": 2,
   "id": "ef88d270-2b15-49ed-a257-b90629c8c2a7",
   "metadata": {},
   "outputs": [],
   "source": [
    "tickers = si.tickers_sp500(False)\n"
   ]
  },
  {
   "cell_type": "code",
   "execution_count": 3,
   "id": "1cda4a33-6375-4871-9b6a-250648e766fd",
   "metadata": {},
   "outputs": [],
   "source": [
    "start = dt.datetime.now() - dt.timedelta(days=365)\n",
    "end = dt.datetime.now()"
   ]
  },
  {
   "cell_type": "code",
   "execution_count": 4,
   "id": "846b84ed-12c3-4fed-9d03-eb434c7305b9",
   "metadata": {},
   "outputs": [],
   "source": [
    "sp500_df = web.DataReader('^GSPC', 'yahoo', start, end)\n",
    "sp500_df['Pct Change'] = sp500_df['Adj Close'].pct_change()\n",
    "sp500_return = (((sp500_df['Pct Change'] + 1).cumprod())-1)[-1]\n",
    "\n",
    "#sp500_df"
   ]
  },
  {
   "cell_type": "code",
   "execution_count": 5,
   "id": "d93c1518-8db4-4197-85dd-96e8cdbeef47",
   "metadata": {},
   "outputs": [],
   "source": [
    "return_list=[]"
   ]
  },
  {
   "cell_type": "code",
   "execution_count": 9,
   "id": "1367c380-3393-43a0-b8f7-86eb60bc6480",
   "metadata": {},
   "outputs": [],
   "source": [
    "final_df = pd.DataFrame(columns=['Ticker', 'Latest_Price', 'Score', 'PE_Ratio', 'PEG_Ratio', 'SMA_150', 'SMA_200', '52_Week_Low', '52_Week_High'])"
   ]
  },
  {
   "cell_type": "code",
   "execution_count": 10,
   "id": "5a894425-7bd9-4b05-8403-7dadcaa34129",
   "metadata": {},
   "outputs": [
    {
     "ename": "FileNotFoundError",
     "evalue": "[Errno 2] No such file or directory: 'stock_data/A.csv'",
     "output_type": "error",
     "traceback": [
      "\u001b[1;31m---------------------------------------------------------------------------\u001b[0m",
      "\u001b[1;31mFileNotFoundError\u001b[0m                         Traceback (most recent call last)",
      "\u001b[1;32m~\\AppData\\Local\\Temp\\ipykernel_7764\\4151801085.py\u001b[0m in \u001b[0;36m<module>\u001b[1;34m\u001b[0m\n\u001b[0;32m      3\u001b[0m \u001b[1;32mfor\u001b[0m \u001b[0mticker\u001b[0m \u001b[1;32min\u001b[0m \u001b[0mtickers\u001b[0m\u001b[1;33m:\u001b[0m\u001b[1;33m\u001b[0m\u001b[1;33m\u001b[0m\u001b[0m\n\u001b[0;32m      4\u001b[0m     \u001b[0mdf\u001b[0m \u001b[1;33m=\u001b[0m \u001b[0mweb\u001b[0m\u001b[1;33m.\u001b[0m\u001b[0mDataReader\u001b[0m\u001b[1;33m(\u001b[0m\u001b[0mticker\u001b[0m\u001b[1;33m,\u001b[0m \u001b[1;34m'yahoo'\u001b[0m\u001b[1;33m,\u001b[0m \u001b[0mstart\u001b[0m\u001b[1;33m,\u001b[0m \u001b[0mend\u001b[0m\u001b[1;33m)\u001b[0m\u001b[1;33m\u001b[0m\u001b[1;33m\u001b[0m\u001b[0m\n\u001b[1;32m----> 5\u001b[1;33m     \u001b[0mdf\u001b[0m\u001b[1;33m.\u001b[0m\u001b[0mto_csv\u001b[0m\u001b[1;33m(\u001b[0m\u001b[1;34mf'stock_data/{ticker}.csv'\u001b[0m\u001b[1;33m)\u001b[0m\u001b[1;33m\u001b[0m\u001b[1;33m\u001b[0m\u001b[0m\n\u001b[0m\u001b[0;32m      6\u001b[0m \u001b[1;33m\u001b[0m\u001b[0m\n\u001b[0;32m      7\u001b[0m     \u001b[0mdf\u001b[0m\u001b[1;33m[\u001b[0m\u001b[1;34m'Pct Change'\u001b[0m\u001b[1;33m]\u001b[0m \u001b[1;33m=\u001b[0m \u001b[0mdf\u001b[0m\u001b[1;33m[\u001b[0m\u001b[1;34m'Adj Close'\u001b[0m\u001b[1;33m]\u001b[0m\u001b[1;33m.\u001b[0m\u001b[0mpct_change\u001b[0m\u001b[1;33m(\u001b[0m\u001b[1;33m)\u001b[0m\u001b[1;33m\u001b[0m\u001b[1;33m\u001b[0m\u001b[0m\n",
      "\u001b[1;32mc:\\Users\\yutak\\anaconda3\\envs\\dev\\lib\\site-packages\\pandas\\core\\generic.py\u001b[0m in \u001b[0;36mto_csv\u001b[1;34m(self, path_or_buf, sep, na_rep, float_format, columns, header, index, index_label, mode, encoding, compression, quoting, quotechar, line_terminator, chunksize, date_format, doublequote, escapechar, decimal, errors, storage_options)\u001b[0m\n\u001b[0;32m   3480\u001b[0m             \u001b[0mdoublequote\u001b[0m\u001b[1;33m=\u001b[0m\u001b[0mdoublequote\u001b[0m\u001b[1;33m,\u001b[0m\u001b[1;33m\u001b[0m\u001b[1;33m\u001b[0m\u001b[0m\n\u001b[0;32m   3481\u001b[0m             \u001b[0mescapechar\u001b[0m\u001b[1;33m=\u001b[0m\u001b[0mescapechar\u001b[0m\u001b[1;33m,\u001b[0m\u001b[1;33m\u001b[0m\u001b[1;33m\u001b[0m\u001b[0m\n\u001b[1;32m-> 3482\u001b[1;33m             \u001b[0mstorage_options\u001b[0m\u001b[1;33m=\u001b[0m\u001b[0mstorage_options\u001b[0m\u001b[1;33m,\u001b[0m\u001b[1;33m\u001b[0m\u001b[1;33m\u001b[0m\u001b[0m\n\u001b[0m\u001b[0;32m   3483\u001b[0m         )\n\u001b[0;32m   3484\u001b[0m \u001b[1;33m\u001b[0m\u001b[0m\n",
      "\u001b[1;32mc:\\Users\\yutak\\anaconda3\\envs\\dev\\lib\\site-packages\\pandas\\io\\formats\\format.py\u001b[0m in \u001b[0;36mto_csv\u001b[1;34m(self, path_or_buf, encoding, sep, columns, index_label, mode, compression, quoting, quotechar, line_terminator, chunksize, date_format, doublequote, escapechar, errors, storage_options)\u001b[0m\n\u001b[0;32m   1103\u001b[0m             \u001b[0mformatter\u001b[0m\u001b[1;33m=\u001b[0m\u001b[0mself\u001b[0m\u001b[1;33m.\u001b[0m\u001b[0mfmt\u001b[0m\u001b[1;33m,\u001b[0m\u001b[1;33m\u001b[0m\u001b[1;33m\u001b[0m\u001b[0m\n\u001b[0;32m   1104\u001b[0m         )\n\u001b[1;32m-> 1105\u001b[1;33m         \u001b[0mcsv_formatter\u001b[0m\u001b[1;33m.\u001b[0m\u001b[0msave\u001b[0m\u001b[1;33m(\u001b[0m\u001b[1;33m)\u001b[0m\u001b[1;33m\u001b[0m\u001b[1;33m\u001b[0m\u001b[0m\n\u001b[0m\u001b[0;32m   1106\u001b[0m \u001b[1;33m\u001b[0m\u001b[0m\n\u001b[0;32m   1107\u001b[0m         \u001b[1;32mif\u001b[0m \u001b[0mcreated_buffer\u001b[0m\u001b[1;33m:\u001b[0m\u001b[1;33m\u001b[0m\u001b[1;33m\u001b[0m\u001b[0m\n",
      "\u001b[1;32mc:\\Users\\yutak\\anaconda3\\envs\\dev\\lib\\site-packages\\pandas\\io\\formats\\csvs.py\u001b[0m in \u001b[0;36msave\u001b[1;34m(self)\u001b[0m\n\u001b[0;32m    241\u001b[0m             \u001b[0merrors\u001b[0m\u001b[1;33m=\u001b[0m\u001b[0mself\u001b[0m\u001b[1;33m.\u001b[0m\u001b[0merrors\u001b[0m\u001b[1;33m,\u001b[0m\u001b[1;33m\u001b[0m\u001b[1;33m\u001b[0m\u001b[0m\n\u001b[0;32m    242\u001b[0m             \u001b[0mcompression\u001b[0m\u001b[1;33m=\u001b[0m\u001b[0mself\u001b[0m\u001b[1;33m.\u001b[0m\u001b[0mcompression\u001b[0m\u001b[1;33m,\u001b[0m\u001b[1;33m\u001b[0m\u001b[1;33m\u001b[0m\u001b[0m\n\u001b[1;32m--> 243\u001b[1;33m             \u001b[0mstorage_options\u001b[0m\u001b[1;33m=\u001b[0m\u001b[0mself\u001b[0m\u001b[1;33m.\u001b[0m\u001b[0mstorage_options\u001b[0m\u001b[1;33m,\u001b[0m\u001b[1;33m\u001b[0m\u001b[1;33m\u001b[0m\u001b[0m\n\u001b[0m\u001b[0;32m    244\u001b[0m         ) as handles:\n\u001b[0;32m    245\u001b[0m \u001b[1;33m\u001b[0m\u001b[0m\n",
      "\u001b[1;32mc:\\Users\\yutak\\anaconda3\\envs\\dev\\lib\\site-packages\\pandas\\io\\common.py\u001b[0m in \u001b[0;36mget_handle\u001b[1;34m(path_or_buf, mode, encoding, compression, memory_map, is_text, errors, storage_options)\u001b[0m\n\u001b[0;32m    705\u001b[0m                 \u001b[0mencoding\u001b[0m\u001b[1;33m=\u001b[0m\u001b[0mioargs\u001b[0m\u001b[1;33m.\u001b[0m\u001b[0mencoding\u001b[0m\u001b[1;33m,\u001b[0m\u001b[1;33m\u001b[0m\u001b[1;33m\u001b[0m\u001b[0m\n\u001b[0;32m    706\u001b[0m                 \u001b[0merrors\u001b[0m\u001b[1;33m=\u001b[0m\u001b[0merrors\u001b[0m\u001b[1;33m,\u001b[0m\u001b[1;33m\u001b[0m\u001b[1;33m\u001b[0m\u001b[0m\n\u001b[1;32m--> 707\u001b[1;33m                 \u001b[0mnewline\u001b[0m\u001b[1;33m=\u001b[0m\u001b[1;34m\"\"\u001b[0m\u001b[1;33m,\u001b[0m\u001b[1;33m\u001b[0m\u001b[1;33m\u001b[0m\u001b[0m\n\u001b[0m\u001b[0;32m    708\u001b[0m             )\n\u001b[0;32m    709\u001b[0m         \u001b[1;32melse\u001b[0m\u001b[1;33m:\u001b[0m\u001b[1;33m\u001b[0m\u001b[1;33m\u001b[0m\u001b[0m\n",
      "\u001b[1;31mFileNotFoundError\u001b[0m: [Errno 2] No such file or directory: 'stock_data/A.csv'"
     ]
    }
   ],
   "source": [
    "#make sure to have 'stock_data' folder in directory\n",
    "\n",
    "for ticker in tickers:\n",
    "    df = web.DataReader(ticker, 'yahoo', start, end)\n",
    "    df.to_csv(f'stock_data/{ticker}.csv')\n",
    "    \n",
    "    df['Pct Change'] = df['Adj Close'].pct_change()\n",
    "    stock_return = (((df['Pct Change'] + 1).cumprod())-1)[-1]\n",
    "    \n",
    "    returns_compared = round((stock_return / sp500_return), 2)\n",
    "    return_list.append(returns_compared)\n",
    "print(return_list)"
   ]
  },
  {
   "cell_type": "code",
   "execution_count": 11,
   "id": "06708b03-fc52-41ea-864f-b091def1d9bb",
   "metadata": {},
   "outputs": [
    {
     "data": {
      "text/html": [
       "<div>\n",
       "<style scoped>\n",
       "    .dataframe tbody tr th:only-of-type {\n",
       "        vertical-align: middle;\n",
       "    }\n",
       "\n",
       "    .dataframe tbody tr th {\n",
       "        vertical-align: top;\n",
       "    }\n",
       "\n",
       "    .dataframe thead th {\n",
       "        text-align: right;\n",
       "    }\n",
       "</style>\n",
       "<table border=\"1\" class=\"dataframe\">\n",
       "  <thead>\n",
       "    <tr style=\"text-align: right;\">\n",
       "      <th></th>\n",
       "      <th>Ticker</th>\n",
       "      <th>Returns Compared</th>\n",
       "      <th>Score</th>\n",
       "    </tr>\n",
       "  </thead>\n",
       "  <tbody>\n",
       "  </tbody>\n",
       "</table>\n",
       "</div>"
      ],
      "text/plain": [
       "Empty DataFrame\n",
       "Columns: [Ticker, Returns Compared, Score]\n",
       "Index: []"
      ]
     },
     "metadata": {},
     "output_type": "display_data"
    }
   ],
   "source": [
    "\"\"\"\n",
    "Original Code\n",
    "\n",
    "best_performers = pd.DataFrame(list(zip(tickers, return_list)), columns=['Ticker', 'Returns Compared'])\n",
    "best_performers['Score'] = best_performers['Returns Compared'].rank(pct=True) * 100\n",
    "best_performers = best_performers[best_performers['Score'] >= best_performers['Score'].quantile(0.9)]\n",
    "display(best_performers)\n",
    "\"\"\"\n",
    "\n",
    "best_performers = pd.DataFrame(list(zip(tickers, return_list)), columns=['Ticker', 'Returns Compared'])\n",
    "best_performers['Score'] = best_performers['Returns Compared'].rank(pct=True) *100\n",
    "best_performers = best_performers[best_performers['Returns Compared'] >= 0]\n",
    "best_performers = best_performers[best_performers['Score'] >= best_performers['Score'].quantile(0.95)]\n",
    "best_performers = best_performers.sort_values(by='Score', ascending=False)\n",
    "display(best_performers)"
   ]
  },
  {
   "cell_type": "code",
   "execution_count": 12,
   "id": "1eb7d39d-cae1-42c9-b3b4-62ff2b22ed12",
   "metadata": {},
   "outputs": [
    {
     "data": {
      "text/plain": [
       "{'1y Target Est': 76.74,\n",
       " '52 Week Range': '25.07 - 77.13',\n",
       " 'Ask': '64.31 x 1200',\n",
       " 'Avg. Volume': 26227331.0,\n",
       " 'Beta (5Y Monthly)': 1.86,\n",
       " 'Bid': '64.20 x 800',\n",
       " \"Day's Range\": '63.25 - 64.82',\n",
       " 'EPS (TTM)': 10.17,\n",
       " 'Earnings Date': 'Nov 02, 2022 - Nov 07, 2022',\n",
       " 'Ex-Dividend Date': 'Sep 09, 2022',\n",
       " 'Forward Dividend & Yield': '0.52 (0.81%)',\n",
       " 'Market Cap': '59.876B',\n",
       " 'Open': 64.1,\n",
       " 'PE Ratio (TTM)': 6.32,\n",
       " 'Previous Close': 64.68,\n",
       " 'Quote Price': 64.27999877929688,\n",
       " 'Volume': 20113308.0}"
      ]
     },
     "metadata": {},
     "output_type": "display_data"
    },
    {
     "data": {
      "text/plain": [
       "nan"
      ]
     },
     "metadata": {},
     "output_type": "display_data"
    }
   ],
   "source": [
    "#exmaple of locating pe_ratio and peg_ratio, values not available at certain times\n",
    "pe_ratio = si.get_quote_table('OXY')\n",
    "display(pe_ratio)\n",
    "peg_ratio = float(si.get_stats_valuation('OXY').iloc[4][1])\n",
    "display(peg_ratio)"
   ]
  },
  {
   "cell_type": "code",
   "execution_count": 13,
   "id": "2191feca-9364-4e62-b598-9272db38206e",
   "metadata": {},
   "outputs": [],
   "source": [
    "\n",
    "for ticker in best_performers['Ticker']:\n",
    "    try:\n",
    "        df = pd.read_csv(f'stock_data/{ticker}.csv', index_col=0)\n",
    "        moving_averages = [150, 200]\n",
    "        for ma in moving_averages:\n",
    "            df['SMA_' + str(ma)] = round(df['Adj Close'].rolling(window=ma).mean(), 2)\n",
    "        latest_price =df['Adj Close'][-1]\n",
    "        pe_ratio = float(si.get_quote_table(ticker)['PE Ratio (TTM)'])\n",
    "        peg_ratio = float(si.get_stats_valuation(ticker).loc[4][1])\n",
    "        moving_averages_150 = df['SMA_150'][-1]\n",
    "        moving_averages_200 = df['SMA_200'][-1]\n",
    "        low_52week = round(min(df['Low'][-(252):]), 2)\n",
    "        high_52week = round(max(df['High'][-(252):]), 2)\n",
    "        score = round(best_performers[best_performers['Ticker'] == ticker]['Score'].tolist()[0])\n",
    "\n",
    "        condition_1 = latest_price > moving_averages_150 > moving_averages_200\n",
    "        condition_2 = latest_price >= (1.3 * low_52week)\n",
    "        condition_3 = latest_price >= (0.75 * high_52week)\n",
    "        condition_4 = pe_ratio < 40\n",
    "        condition_5 = peg_ratio < 2\n",
    "\n",
    "        if condition_1 and condition_2 and condition_3:\n",
    "            final_df = final_df.append({'Ticker': ticker,\n",
    "                                        'Latest_Price': latest_price,\n",
    "                                        'Score': score,\n",
    "                                        'PE_Ratio': pe_ratio,\n",
    "                                        'PEG_Ratio': peg_ratio,\n",
    "                                        'SMA_150': moving_averages_150,\n",
    "                                        'SMA_200': moving_averages_200,\n",
    "                                        '52_Week_Low': low_52week,\n",
    "                                        '52_Week_High': high_52week}, ignore_index=True)\n",
    "    except Exception as e:\n",
    "        print(f\"{e} for {ticker}\")"
   ]
  },
  {
   "cell_type": "code",
   "execution_count": 14,
   "id": "fab9255d-b9be-4d54-9b2c-530c512f9299",
   "metadata": {},
   "outputs": [
    {
     "name": "stdout",
     "output_type": "stream",
     "text": [
      "Empty DataFrame\n",
      "Columns: [Ticker, Latest_Price, Score, PE_Ratio, PEG_Ratio, SMA_150, SMA_200, 52_Week_Low, 52_Week_High]\n",
      "Index: []\n"
     ]
    }
   ],
   "source": [
    "final_df.sort_values(by='Score', ascending=False)\n",
    "#pd.set_option('display.max_columns', 10)\n",
    "print(final_df)\n",
    "final_df.to_csv('final.csv')"
   ]
  },
  {
   "cell_type": "code",
   "execution_count": 144,
   "id": "74da4e77-1dc7-4b12-8a70-fe32a8885fee",
   "metadata": {},
   "outputs": [
    {
     "data": {
      "text/html": [
       "<div>\n",
       "<style scoped>\n",
       "    .dataframe tbody tr th:only-of-type {\n",
       "        vertical-align: middle;\n",
       "    }\n",
       "\n",
       "    .dataframe tbody tr th {\n",
       "        vertical-align: top;\n",
       "    }\n",
       "\n",
       "    .dataframe thead th {\n",
       "        text-align: right;\n",
       "    }\n",
       "</style>\n",
       "<table border=\"1\" class=\"dataframe\">\n",
       "  <thead>\n",
       "    <tr style=\"text-align: right;\">\n",
       "      <th>Date</th>\n",
       "      <th>High</th>\n",
       "      <th>Low</th>\n",
       "      <th>Open</th>\n",
       "      <th>Close</th>\n",
       "      <th>Volume</th>\n",
       "      <th>daily_return</th>\n",
       "    </tr>\n",
       "  </thead>\n",
       "  <tbody>\n",
       "    <tr>\n",
       "      <th>2021-09-20</th>\n",
       "      <td>25.920000</td>\n",
       "      <td>24.959999</td>\n",
       "      <td>25.740000</td>\n",
       "      <td>25.480000</td>\n",
       "      <td>20470000.0</td>\n",
       "      <td>NaN</td>\n",
       "    </tr>\n",
       "    <tr>\n",
       "      <th>2021-09-21</th>\n",
       "      <td>26.080000</td>\n",
       "      <td>25.070000</td>\n",
       "      <td>25.820000</td>\n",
       "      <td>25.430000</td>\n",
       "      <td>12866200.0</td>\n",
       "      <td>-0.001962</td>\n",
       "    </tr>\n",
       "    <tr>\n",
       "      <th>2021-09-22</th>\n",
       "      <td>27.260000</td>\n",
       "      <td>26.219999</td>\n",
       "      <td>26.219999</td>\n",
       "      <td>26.750000</td>\n",
       "      <td>21793400.0</td>\n",
       "      <td>0.051907</td>\n",
       "    </tr>\n",
       "    <tr>\n",
       "      <th>2021-09-23</th>\n",
       "      <td>28.200001</td>\n",
       "      <td>26.580000</td>\n",
       "      <td>26.969999</td>\n",
       "      <td>27.959999</td>\n",
       "      <td>17428000.0</td>\n",
       "      <td>0.045234</td>\n",
       "    </tr>\n",
       "    <tr>\n",
       "      <th>2021-09-24</th>\n",
       "      <td>28.450001</td>\n",
       "      <td>27.549999</td>\n",
       "      <td>27.620001</td>\n",
       "      <td>28.100000</td>\n",
       "      <td>13473800.0</td>\n",
       "      <td>0.005007</td>\n",
       "    </tr>\n",
       "    <tr>\n",
       "      <th>...</th>\n",
       "      <td>...</td>\n",
       "      <td>...</td>\n",
       "      <td>...</td>\n",
       "      <td>...</td>\n",
       "      <td>...</td>\n",
       "      <td>...</td>\n",
       "    </tr>\n",
       "    <tr>\n",
       "      <th>2022-09-12</th>\n",
       "      <td>67.809998</td>\n",
       "      <td>65.680000</td>\n",
       "      <td>67.000000</td>\n",
       "      <td>66.800003</td>\n",
       "      <td>26349100.0</td>\n",
       "      <td>0.018138</td>\n",
       "    </tr>\n",
       "    <tr>\n",
       "      <th>2022-09-13</th>\n",
       "      <td>66.779999</td>\n",
       "      <td>64.519997</td>\n",
       "      <td>65.629997</td>\n",
       "      <td>65.339996</td>\n",
       "      <td>25446400.0</td>\n",
       "      <td>-0.021856</td>\n",
       "    </tr>\n",
       "    <tr>\n",
       "      <th>2022-09-14</th>\n",
       "      <td>67.790001</td>\n",
       "      <td>65.760002</td>\n",
       "      <td>66.220001</td>\n",
       "      <td>67.199997</td>\n",
       "      <td>28407000.0</td>\n",
       "      <td>0.028466</td>\n",
       "    </tr>\n",
       "    <tr>\n",
       "      <th>2022-09-15</th>\n",
       "      <td>66.139999</td>\n",
       "      <td>65.010002</td>\n",
       "      <td>65.800003</td>\n",
       "      <td>65.089996</td>\n",
       "      <td>24382100.0</td>\n",
       "      <td>-0.031399</td>\n",
       "    </tr>\n",
       "    <tr>\n",
       "      <th>2022-09-16</th>\n",
       "      <td>65.040001</td>\n",
       "      <td>63.009998</td>\n",
       "      <td>65.000000</td>\n",
       "      <td>64.410004</td>\n",
       "      <td>57437700.0</td>\n",
       "      <td>-0.010447</td>\n",
       "    </tr>\n",
       "  </tbody>\n",
       "</table>\n",
       "<p>251 rows × 6 columns</p>\n",
       "</div>"
      ],
      "text/plain": [
       "Date             High        Low       Open      Close      Volume  \\\n",
       "2021-09-20  25.920000  24.959999  25.740000  25.480000  20470000.0   \n",
       "2021-09-21  26.080000  25.070000  25.820000  25.430000  12866200.0   \n",
       "2021-09-22  27.260000  26.219999  26.219999  26.750000  21793400.0   \n",
       "2021-09-23  28.200001  26.580000  26.969999  27.959999  17428000.0   \n",
       "2021-09-24  28.450001  27.549999  27.620001  28.100000  13473800.0   \n",
       "...               ...        ...        ...        ...         ...   \n",
       "2022-09-12  67.809998  65.680000  67.000000  66.800003  26349100.0   \n",
       "2022-09-13  66.779999  64.519997  65.629997  65.339996  25446400.0   \n",
       "2022-09-14  67.790001  65.760002  66.220001  67.199997  28407000.0   \n",
       "2022-09-15  66.139999  65.010002  65.800003  65.089996  24382100.0   \n",
       "2022-09-16  65.040001  63.009998  65.000000  64.410004  57437700.0   \n",
       "\n",
       "Date        daily_return  \n",
       "2021-09-20           NaN  \n",
       "2021-09-21     -0.001962  \n",
       "2021-09-22      0.051907  \n",
       "2021-09-23      0.045234  \n",
       "2021-09-24      0.005007  \n",
       "...                  ...  \n",
       "2022-09-12      0.018138  \n",
       "2022-09-13     -0.021856  \n",
       "2022-09-14      0.028466  \n",
       "2022-09-15     -0.031399  \n",
       "2022-09-16     -0.010447  \n",
       "\n",
       "[251 rows x 6 columns]"
      ]
     },
     "metadata": {},
     "output_type": "display_data"
    },
    {
     "ename": "IndexError",
     "evalue": "Too many levels: Index has only 1 level, not 2",
     "output_type": "error",
     "traceback": [
      "\u001b[1;31m---------------------------------------------------------------------------\u001b[0m",
      "\u001b[1;31mIndexError\u001b[0m                                Traceback (most recent call last)",
      "\u001b[1;32m~\\AppData\\Local\\Temp\\ipykernel_15528\\2115240570.py\u001b[0m in \u001b[0;36m<module>\u001b[1;34m\u001b[0m\n\u001b[0;32m     18\u001b[0m     \u001b[0mweights\u001b[0m \u001b[1;33m=\u001b[0m \u001b[1;33m[\u001b[0m\u001b[1;36m1\u001b[0m\u001b[1;33m]\u001b[0m\u001b[1;33m,\u001b[0m\u001b[1;33m\u001b[0m\u001b[1;33m\u001b[0m\u001b[0m\n\u001b[0;32m     19\u001b[0m     \u001b[0mnum_simulation\u001b[0m \u001b[1;33m=\u001b[0m \u001b[1;36m500\u001b[0m\u001b[1;33m,\u001b[0m\u001b[1;33m\u001b[0m\u001b[1;33m\u001b[0m\u001b[0m\n\u001b[1;32m---> 20\u001b[1;33m     \u001b[0mnum_trading_days\u001b[0m \u001b[1;33m=\u001b[0m \u001b[1;36m756\u001b[0m\u001b[1;33m\u001b[0m\u001b[1;33m\u001b[0m\u001b[0m\n\u001b[0m\u001b[0;32m     21\u001b[0m     )\n\u001b[0;32m     22\u001b[0m \u001b[1;33m\u001b[0m\u001b[0m\n",
      "\u001b[1;32m~\\OneDrive\\Desktop\\UW FinTech Bootcamp\\Practice Project 1\\MCForecastTools.py\u001b[0m in \u001b[0;36m__init__\u001b[1;34m(self, portfolio_data, weights, num_simulation, num_trading_days)\u001b[0m\n\u001b[0;32m     62\u001b[0m \u001b[1;33m\u001b[0m\u001b[0m\n\u001b[0;32m     63\u001b[0m         \u001b[1;31m# Calculate daily return if not within dataframe\u001b[0m\u001b[1;33m\u001b[0m\u001b[1;33m\u001b[0m\u001b[1;33m\u001b[0m\u001b[0m\n\u001b[1;32m---> 64\u001b[1;33m         \u001b[1;32mif\u001b[0m \u001b[1;32mnot\u001b[0m \u001b[1;34m\"daily_return\"\u001b[0m \u001b[1;32min\u001b[0m \u001b[0mportfolio_data\u001b[0m\u001b[1;33m.\u001b[0m\u001b[0mcolumns\u001b[0m\u001b[1;33m.\u001b[0m\u001b[0mget_level_values\u001b[0m\u001b[1;33m(\u001b[0m\u001b[1;36m1\u001b[0m\u001b[1;33m)\u001b[0m\u001b[1;33m.\u001b[0m\u001b[0munique\u001b[0m\u001b[1;33m(\u001b[0m\u001b[1;33m)\u001b[0m\u001b[1;33m:\u001b[0m\u001b[1;33m\u001b[0m\u001b[1;33m\u001b[0m\u001b[0m\n\u001b[0m\u001b[0;32m     65\u001b[0m             \u001b[0mclose_df\u001b[0m \u001b[1;33m=\u001b[0m \u001b[0mportfolio_data\u001b[0m\u001b[1;33m.\u001b[0m\u001b[0mxs\u001b[0m\u001b[1;33m(\u001b[0m\u001b[1;34m\"close\"\u001b[0m\u001b[1;33m,\u001b[0m \u001b[0mlevel\u001b[0m\u001b[1;33m=\u001b[0m\u001b[1;36m1\u001b[0m\u001b[1;33m,\u001b[0m \u001b[0maxis\u001b[0m\u001b[1;33m=\u001b[0m\u001b[1;36m1\u001b[0m\u001b[1;33m)\u001b[0m\u001b[1;33m.\u001b[0m\u001b[0mpct_change\u001b[0m\u001b[1;33m(\u001b[0m\u001b[1;33m)\u001b[0m\u001b[1;33m\u001b[0m\u001b[1;33m\u001b[0m\u001b[0m\n\u001b[0;32m     66\u001b[0m             \u001b[0mtickers\u001b[0m \u001b[1;33m=\u001b[0m \u001b[0mportfolio_data\u001b[0m\u001b[1;33m.\u001b[0m\u001b[0mcolumns\u001b[0m\u001b[1;33m.\u001b[0m\u001b[0mget_level_values\u001b[0m\u001b[1;33m(\u001b[0m\u001b[1;36m0\u001b[0m\u001b[1;33m)\u001b[0m\u001b[1;33m.\u001b[0m\u001b[0munique\u001b[0m\u001b[1;33m(\u001b[0m\u001b[1;33m)\u001b[0m\u001b[1;33m\u001b[0m\u001b[1;33m\u001b[0m\u001b[0m\n",
      "\u001b[1;32m~\\anaconda3\\envs\\dev\\lib\\site-packages\\pandas\\core\\indexes\\base.py\u001b[0m in \u001b[0;36m_get_level_values\u001b[1;34m(self, level)\u001b[0m\n\u001b[0;32m   1805\u001b[0m         \u001b[0mIndex\u001b[0m\u001b[1;33m(\u001b[0m\u001b[1;33m[\u001b[0m\u001b[1;34m'a'\u001b[0m\u001b[1;33m,\u001b[0m \u001b[1;34m'b'\u001b[0m\u001b[1;33m,\u001b[0m \u001b[1;34m'c'\u001b[0m\u001b[1;33m]\u001b[0m\u001b[1;33m,\u001b[0m \u001b[0mdtype\u001b[0m\u001b[1;33m=\u001b[0m\u001b[1;34m'object'\u001b[0m\u001b[1;33m)\u001b[0m\u001b[1;33m\u001b[0m\u001b[1;33m\u001b[0m\u001b[0m\n\u001b[0;32m   1806\u001b[0m         \"\"\"\n\u001b[1;32m-> 1807\u001b[1;33m         \u001b[0mself\u001b[0m\u001b[1;33m.\u001b[0m\u001b[0m_validate_index_level\u001b[0m\u001b[1;33m(\u001b[0m\u001b[0mlevel\u001b[0m\u001b[1;33m)\u001b[0m\u001b[1;33m\u001b[0m\u001b[1;33m\u001b[0m\u001b[0m\n\u001b[0m\u001b[0;32m   1808\u001b[0m         \u001b[1;32mreturn\u001b[0m \u001b[0mself\u001b[0m\u001b[1;33m\u001b[0m\u001b[1;33m\u001b[0m\u001b[0m\n\u001b[0;32m   1809\u001b[0m \u001b[1;33m\u001b[0m\u001b[0m\n",
      "\u001b[1;32m~\\anaconda3\\envs\\dev\\lib\\site-packages\\pandas\\core\\indexes\\base.py\u001b[0m in \u001b[0;36m_validate_index_level\u001b[1;34m(self, level)\u001b[0m\n\u001b[0;32m   1725\u001b[0m             \u001b[1;32melif\u001b[0m \u001b[0mlevel\u001b[0m \u001b[1;33m>\u001b[0m \u001b[1;36m0\u001b[0m\u001b[1;33m:\u001b[0m\u001b[1;33m\u001b[0m\u001b[1;33m\u001b[0m\u001b[0m\n\u001b[0;32m   1726\u001b[0m                 raise IndexError(\n\u001b[1;32m-> 1727\u001b[1;33m                     \u001b[1;34mf\"Too many levels: Index has only 1 level, not {level + 1}\"\u001b[0m\u001b[1;33m\u001b[0m\u001b[1;33m\u001b[0m\u001b[0m\n\u001b[0m\u001b[0;32m   1728\u001b[0m                 )\n\u001b[0;32m   1729\u001b[0m         \u001b[1;32melif\u001b[0m \u001b[0mlevel\u001b[0m \u001b[1;33m!=\u001b[0m \u001b[0mself\u001b[0m\u001b[1;33m.\u001b[0m\u001b[0mname\u001b[0m\u001b[1;33m:\u001b[0m\u001b[1;33m\u001b[0m\u001b[1;33m\u001b[0m\u001b[0m\n",
      "\u001b[1;31mIndexError\u001b[0m: Too many levels: Index has only 1 level, not 2"
     ]
    }
   ],
   "source": [
    "#Tried monte carlo simulation, but keep running into error \"IndexError: Too many levels: Index has only 1 level, not 2\"\n",
    "\"\"\"for ticker in final_df['Ticker']:\n",
    "    #df = web.DataReader(ticker, 'yahoo', start, end)\n",
    "    df = pd.read_csv(f'stock_data/{ticker}.csv')\n",
    "    \"\"\"index_col=\"Date\",\n",
    "        parse_dates=True,\n",
    "        infer_datetime_format=True)\"\"\"\n",
    "    #df = df.reset_index(inplace=False)\n",
    "    df = df.set_index('Date')\n",
    "    df = df.drop(['Adj Close'], axis=1)\n",
    "    #df = df.reset_index(col_level=1)\n",
    "    df['daily_return']= df['Close'].pct_change()\n",
    "    df.columns.name = df.index.name\n",
    "    df.index.name = None\n",
    "    display(df)\n",
    "    \n",
    "    MC_threeyear = MCSimulation(\n",
    "    portfolio_data = df,\n",
    "    weights = [1],\n",
    "    num_simulation = 500,\n",
    "    num_trading_days = 756\n",
    "    )\n",
    "    \n",
    "    #display(MC_threeyear.calc_cumulative_return())\n",
    "   # display(MC_fiveyear.plot_simulation())\"\"\""
   ]
  },
  {
   "cell_type": "code",
   "execution_count": null,
   "id": "406fcb8b-e9a7-4d1c-9584-edb23d3a14e4",
   "metadata": {},
   "outputs": [],
   "source": []
  }
 ],
 "metadata": {
  "kernelspec": {
   "display_name": "Python 3.7.13 ('dev')",
   "language": "python",
   "name": "python3"
  },
  "language_info": {
   "codemirror_mode": {
    "name": "ipython",
    "version": 3
   },
   "file_extension": ".py",
   "mimetype": "text/x-python",
   "name": "python",
   "nbconvert_exporter": "python",
   "pygments_lexer": "ipython3",
   "version": "3.7.13"
  },
  "vscode": {
   "interpreter": {
    "hash": "93986439eebc7467be198688d150ab4eac38c128c4222739542fe24693d36305"
   }
  }
 },
 "nbformat": 4,
 "nbformat_minor": 5
}
