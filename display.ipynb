{
 "cells": [
  {
   "cell_type": "code",
   "execution_count": null,
   "metadata": {},
   "outputs": [],
   "source": [
    "import pandas as pd\n",
    "from pathlib import Path\n",
    "import csv\n",
    "import plotly.graph_objects as go\n",
    "import plotly.express as px\n",
    "from yahoo_fin import stock_info as si"
   ]
  },
  {
   "cell_type": "code",
   "execution_count": null,
   "metadata": {},
   "outputs": [],
   "source": [
    "# Get ticker list\n",
    "tickers_path = \"Resources/tickers_list/tickers_list.csv\"\n",
    "with open(tickers_path) as csvfile:\n",
    "    data = csv.reader(csvfile)\n",
    "    next(data)\n",
    "    tickers_list = [row[0] for row in data]\n",
    "analysis_code = tickers_list[-1]\n",
    "tickers_list.pop()\n",
    "\n",
    "### Display Summary of filtered stocks (Maybe make a new df for easy scanning)\n",
    "\n",
    "# Display tickers\n",
    "print(\"List of the tickers\")\n",
    "print(tickers_list)"
   ]
  },
  {
   "cell_type": "code",
   "execution_count": null,
   "metadata": {},
   "outputs": [],
   "source": [
    "# Display which filter(s) did the application use\n",
    "analysis_code = 5 - int(analysis_code)\n",
    "conditions = [\"Passing Golden Cross\", \"20-day SMA >= 50-day SMA\", \"20-day EMA >= 20-day SMA\", \"RSI >= 50\", \"Closing Price >= 20-day EMA\"]\n",
    "print(\"List of technical analysis applied to filter\")\n",
    "print(conditions[:analysis_code])"
   ]
  },
  {
   "cell_type": "code",
   "execution_count": null,
   "metadata": {},
   "outputs": [],
   "source": [
    "# Display candlestick\n",
    "for ticker in tickers_list:\n",
    "    csvpath = f\"Resources/{ticker}.csv\"\n",
    "    df = pd.read_csv(csvpath, index_col=0, infer_datetime_format=True, parse_dates=True).dropna()\n",
    "    df = df.reset_index()\n",
    "\n",
    "    fig = go.Figure(\n",
    "        layout_title_text=ticker + ' (July 2020 - September 2022)'\n",
    "    )\n",
    "    \n",
    "    fig.add_trace(\n",
    "        go.Candlestick(\n",
    "                x=df['index'],\n",
    "                open=df['open'],\n",
    "                high=df['high'],\n",
    "                low=df['low'],\n",
    "                close=df['close'],\n",
    "                name=ticker\n",
    "        ))\n",
    "    fig.add_trace(\n",
    "        go.Scatter(\n",
    "            x=df['index'],\n",
    "            y=df['SMA 50'],\n",
    "            mode='lines',\n",
    "            name='SMA 50'\n",
    "        )    \n",
    "    )\n",
    "    \n",
    "    fig.add_trace(\n",
    "        go.Scatter(\n",
    "            x=df['index'],\n",
    "            y=df['SMA 200'],\n",
    "            mode='lines',\n",
    "            name='SMA 200'\n",
    "        )\n",
    "    )\n",
    "    fig.add_trace(\n",
    "        go.Scatter(\n",
    "            x=df['index'],\n",
    "            y=df['EMA 20'],\n",
    "            mode='lines',\n",
    "            name='EMA 20'\n",
    "        )\n",
    "    )\n",
    "    fig.add_trace(\n",
    "        go.Scatter(\n",
    "            x=df['index'],\n",
    "            y=df['SMA 20'],\n",
    "            mode='lines',\n",
    "            name='SMA 20',\n",
    "        )\n",
    "    )\n",
    "    fig.add_trace(\n",
    "        go.Scatter(\n",
    "            x=df['index'],\n",
    "            y=df['RSI'],\n",
    "            mode='lines',\n",
    "            name='RSI',\n",
    "            yaxis='y2'\n",
    "        )\n",
    "    )\n",
    "\n",
    "    fig.update_layout(\n",
    "        xaxis_rangeslider_visible=False,\n",
    "        yaxis_title='Price',\n",
    "        width=900,\n",
    "        height=600,\n",
    "        autosize=True,\n",
    "        yaxis_domain=[0.2, 1],\n",
    "        yaxis2={\"domain\": [0, 0.15]}\n",
    "    )\n",
    "\n",
    "    # Display figure\n",
    "    display(fig)\n",
    "\n",
    "    # Display summaries like cumulative return, closing price, volume, etc\n",
    "    # Display fundamentals like P/E ratio\n",
    "    quote = si.get_quote_table(ticker)\n",
    "    fund_series = pd.Series(quote)\n",
    "    fund_df = pd.DataFrame(fund_series)\n",
    "    fund_df.columns = [ticker]\n",
    "    display(fund_df)\n",
    "    "
   ]
  },
  {
   "cell_type": "code",
   "execution_count": null,
   "metadata": {},
   "outputs": [],
   "source": []
  }
 ],
 "metadata": {
  "kernelspec": {
   "display_name": "Python 3.7.13 ('dev')",
   "language": "python",
   "name": "python3"
  },
  "language_info": {
   "codemirror_mode": {
    "name": "ipython",
    "version": 3
   },
   "file_extension": ".py",
   "mimetype": "text/x-python",
   "name": "python",
   "nbconvert_exporter": "python",
   "pygments_lexer": "ipython3",
   "version": "3.7.13"
  },
  "vscode": {
   "interpreter": {
    "hash": "83179d992cf7872b23de5728d4e1a1adb64703551cce4a9d2b675611b98cc632"
   }
  }
 },
 "nbformat": 4,
 "nbformat_minor": 4
}
